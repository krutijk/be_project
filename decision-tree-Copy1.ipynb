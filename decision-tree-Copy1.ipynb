{
 "cells": [
  {
   "cell_type": "markdown",
   "metadata": {
    "colab_type": "text",
    "id": "0MRC0e0KhQ0S"
   },
   "source": [
    "# Decision Tree Classification"
   ]
  },
  {
   "cell_type": "markdown",
   "metadata": {
    "colab_type": "text",
    "id": "LWd1UlMnhT2s"
   },
   "source": [
    "## Importing the libraries"
   ]
  },
  {
   "cell_type": "code",
   "execution_count": 8,
   "metadata": {
    "colab": {},
    "colab_type": "code",
    "id": "YvGPUQaHhXfL"
   },
   "outputs": [],
   "source": [
    "import matplotlib.pyplot as plt\n",
    "import pandas as pd\n",
    "import numpy as np\n",
    "from sklearn.preprocessing import OneHotEncoder\n",
    "from sklearn.compose import ColumnTransformer\n",
    "from sklearn.model_selection import train_test_split\n",
    "from sklearn.linear_model import LinearRegression\n",
    "from sklearn.metrics import r2_score\n"
   ]
  },
  {
   "cell_type": "markdown",
   "metadata": {
    "colab_type": "text",
    "id": "K1VMqkGvhc3-"
   },
   "source": [
    "## Importing the dataset"
   ]
  },
  {
   "cell_type": "code",
   "execution_count": 3,
   "metadata": {
    "colab": {},
    "colab_type": "code",
    "id": "M52QDmyzhh9s"
   },
   "outputs": [
    {
     "name": "stdout",
     "output_type": "stream",
     "text": [
      "      Rainfall SST  Wind Speed (km/h)         State  elevation        lat  \\\n",
      "0        65.24  45            14.1197        Kerala  54.553295  14.640394   \n",
      "1       162.91  39            14.2646  AndraPradesh  21.856272  14.698299   \n",
      "2       146.34  32             3.9284   Uttarakhand  69.322807  14.698858   \n",
      "3        17.77  31            14.1036        Kerala  10.987241  14.571310   \n",
      "4        41.90  41            11.0446   Uttarakhand  87.889847  14.762232   \n",
      "...        ...  ..                ...           ...        ...        ...   \n",
      "3495    172.19  63            16.0034        Kerala  48.399899  14.634114   \n",
      "3496     46.53  70            15.4238   Uttarakhand  20.291956  14.626105   \n",
      "3497    112.09  72            17.2431  AndraPradesh  12.405437  14.625527   \n",
      "3498     10.16  62            17.4363        Kerala  17.630608  14.625669   \n",
      "3499    110.80  63            16.8406  AndraPradesh  43.330071  14.709428   \n",
      "\n",
      "             lon  \n",
      "0     121.055708  \n",
      "1     121.002132  \n",
      "2     121.100261  \n",
      "3     120.983334  \n",
      "4     121.075735  \n",
      "...          ...  \n",
      "3495  121.046595  \n",
      "3496  121.021920  \n",
      "3497  121.017841  \n",
      "3498  121.020850  \n",
      "3499  121.047714  \n",
      "\n",
      "[3500 rows x 7 columns]\n"
     ]
    }
   ],
   "source": [
    "dataset = pd.read_csv(r\"C:\\Users\\Lenovo\\Downloads\\Rehackt_FloodPrediction-main\\backend\\Code_Notebook\\FloodPred.csv\")\n",
    "\n",
    "X = dataset.iloc[:, :-1].values\n",
    "y = dataset.iloc[:, 4].values\n",
    "\n",
    "print(dataset)\n"
   ]
  },
  {
   "cell_type": "code",
   "execution_count": 25,
   "metadata": {},
   "outputs": [],
   "source": [
    "from sklearn.preprocessing import LabelEncoder, OneHotEncoder\n",
    "from sklearn.compose import ColumnTransformer\n",
    "#columnTransformer = ColumnTransformer([('encoder', OneHotEncoder(), [0])], remainder='passthrough')\n",
    "#X=np.array(columnTransformer.fit_transform(X),dtype=np.str)\n",
    "#labelencoder_X = LabelEncoder()\n",
    "#X[:, 0] = labelencoder_X.fit_transform(X[:, 0])\n",
    "\n",
    "#labelencoder_y = LabelEncoder()\n",
    "#y = labelencoder_y.fit_transform(y)\n",
    "onehotencoder = OneHotEncoder(handle_unknown='ignore')\n",
    "transformed = onehotencoder.fit_transform(X[:, [4]]).toarray()\n",
    "\n",
    "\n"
   ]
  },
  {
   "cell_type": "markdown",
   "metadata": {
    "colab_type": "text",
    "id": "YvxIPVyMhmKp"
   },
   "source": [
    "## Splitting the dataset into the Training set and Test set"
   ]
  },
  {
   "cell_type": "code",
   "execution_count": 26,
   "metadata": {
    "colab": {},
    "colab_type": "code",
    "id": "AVzJWAXIhxoC"
   },
   "outputs": [],
   "source": [
    "from sklearn.model_selection import train_test_split\n",
    "X_train, X_test, y_train, y_test = train_test_split(X, y, test_size = 0.25, random_state = 0)"
   ]
  },
  {
   "cell_type": "code",
   "execution_count": 27,
   "metadata": {
    "colab": {
     "base_uri": "https://localhost:8080/",
     "height": 1000
    },
    "colab_type": "code",
    "executionInfo": {
     "elapsed": 2065,
     "status": "ok",
     "timestamp": 1588269312367,
     "user": {
      "displayName": "Hadelin de Ponteves",
      "photoUrl": "https://lh3.googleusercontent.com/a-/AOh14GhEuXdT7eQweUmRPW8_laJuPggSK6hfvpl5a6WBaA=s64",
      "userId": "15047218817161520419"
     },
     "user_tz": -240
    },
    "id": "P3nS3-6r1i2B",
    "outputId": "fa90271e-3c0a-43c2-ba6c-cfce4819e98e"
   },
   "outputs": [
    {
     "name": "stdout",
     "output_type": "stream",
     "text": [
      "[[94.88 '54' 13.8138 'Uttarakhand' 3.35215807 14.71092916]\n",
      " [66.19 '77' 27.7242 'Uttarakhand' 24.90296745 14.72187906]\n",
      " [7.1 '42' 8.7745 'AndraPradesh' 4.2087345119999995 14.692834]\n",
      " ...\n",
      " [35.64 '33' 3.0268 'Kerala' 8.088683128 14.53983904]\n",
      " [35.64 '79' 17.9032 'Uttarakhand' 10.06401825 14.60729733]\n",
      " [54.63 '47' 4.8461 'AndraPradesh' 6.503358841 14.50142585]]\n"
     ]
    }
   ],
   "source": [
    "print(X_train)"
   ]
  },
  {
   "cell_type": "code",
   "execution_count": 28,
   "metadata": {
    "colab": {
     "base_uri": "https://localhost:8080/",
     "height": 171
    },
    "colab_type": "code",
    "executionInfo": {
     "elapsed": 2059,
     "status": "ok",
     "timestamp": 1588269312368,
     "user": {
      "displayName": "Hadelin de Ponteves",
      "photoUrl": "https://lh3.googleusercontent.com/a-/AOh14GhEuXdT7eQweUmRPW8_laJuPggSK6hfvpl5a6WBaA=s64",
      "userId": "15047218817161520419"
     },
     "user_tz": -240
    },
    "id": "8dpDLojm1mVG",
    "outputId": "4eaa18a3-6481-42bb-c409-7227565c7fe1"
   },
   "outputs": [
    {
     "name": "stdout",
     "output_type": "stream",
     "text": [
      "[ 3.35215807 24.90296745  4.20873451 ...  8.08868313 10.06401825\n",
      "  6.50335884]\n"
     ]
    }
   ],
   "source": [
    "print(y_train)"
   ]
  },
  {
   "cell_type": "code",
   "execution_count": 29,
   "metadata": {
    "colab": {
     "base_uri": "https://localhost:8080/",
     "height": 1000
    },
    "colab_type": "code",
    "executionInfo": {
     "elapsed": 2055,
     "status": "ok",
     "timestamp": 1588269312369,
     "user": {
      "displayName": "Hadelin de Ponteves",
      "photoUrl": "https://lh3.googleusercontent.com/a-/AOh14GhEuXdT7eQweUmRPW8_laJuPggSK6hfvpl5a6WBaA=s64",
      "userId": "15047218817161520419"
     },
     "user_tz": -240
    },
    "id": "qbb7i0DH1qui",
    "outputId": "5c45ffab-4587-4828-8204-0f4fedf88980"
   },
   "outputs": [
    {
     "name": "stdout",
     "output_type": "stream",
     "text": [
      "[[256.07 '75' 15.3111 'Kerala' 53.45264435 14.63977]\n",
      " [41.42 '59' 13.685 'Uttarakhand' 8.945150375 14.52881038]\n",
      " [65.24 '76' 13.8621 'AndraPradesh' 8.122948647000001 14.53486]\n",
      " ...\n",
      " [17.96 '57' 3.1073 'Uttarakhand' 5.383453846 14.7599111]\n",
      " [16.58 '61' 4.9588 'Uttarakhand' 7.41759491 14.55259942]\n",
      " [164.01 '46' 9.2253 'Uttarakhand' 9.61423111 14.46423456]]\n"
     ]
    }
   ],
   "source": [
    "print(X_test)"
   ]
  },
  {
   "cell_type": "code",
   "execution_count": 30,
   "metadata": {
    "colab": {
     "base_uri": "https://localhost:8080/",
     "height": 68
    },
    "colab_type": "code",
    "executionInfo": {
     "elapsed": 2051,
     "status": "ok",
     "timestamp": 1588269312369,
     "user": {
      "displayName": "Hadelin de Ponteves",
      "photoUrl": "https://lh3.googleusercontent.com/a-/AOh14GhEuXdT7eQweUmRPW8_laJuPggSK6hfvpl5a6WBaA=s64",
      "userId": "15047218817161520419"
     },
     "user_tz": -240
    },
    "id": "kj1hnFAR1s5w",
    "outputId": "984874ad-447c-441b-decb-3c775d9d7936"
   },
   "outputs": [
    {
     "name": "stdout",
     "output_type": "stream",
     "text": [
      "[53.45264435  8.94515038  8.12294865  6.98817587  7.55636692  5.58905506\n",
      "  7.429461    5.17410612  5.98527813  8.79203701  9.38443184 18.17665291\n",
      "  4.69410896 69.71452332  6.86212444 14.37593174 23.17574883 19.42672539\n",
      "  6.09927893  6.48507404 61.06370544  8.90548515  4.97947407 12.20876503\n",
      " 13.52340889 10.50982189  5.59923792 53.82743454  3.35215807 11.1982832\n",
      "  8.57625484  6.37589216  7.34513187  4.95889425 55.05949402  3.10906577\n",
      "  7.24331522  7.21340465  2.59821558  8.38349628 16.94276428  6.07521725\n",
      "  5.88254404 12.08116436 22.66096306 43.50709152 13.3708601  10.08353901\n",
      " 56.13411713  5.16008997 12.09593964  9.77402878  6.79264402 11.37576962\n",
      " 13.34814167 33.51586914  6.44954014  9.72264862  9.38077641 15.57628536\n",
      " 12.58471203 18.72412682  3.27494383 13.24690628  8.00370121 11.091609\n",
      "  9.190629   11.54056168  2.4564085  41.61290741 10.81846523  8.86846829\n",
      "  7.19411326  3.73873663  8.82925797 51.55602264 20.36778069 15.43967819\n",
      " 18.94224358  8.16081715 14.61780548 11.18343353 12.46658134  9.190629\n",
      "  8.82186317  9.190629    6.82370186  8.2856102  16.63764763  8.86846829\n",
      "  6.51034498 10.93452549 12.79417324 42.68395996  7.67811775  5.42546988\n",
      "  8.072649    7.39321995  8.86317253  9.29444885 29.51216125  8.70633411\n",
      " 23.2471199   9.973279   57.37557602  9.34106159  6.99784517 19.95274544\n",
      "  7.4633522  15.48237991 54.53970718 57.07924271 15.64385414  3.43092108\n",
      " 11.99742699  7.64953136  6.22888851 17.30123329 12.46658134 11.18431568\n",
      "  6.26569843 23.15535736 12.13784122 17.94026756 43.171978   11.05264759\n",
      "  2.89973402 11.48142529  7.42480755  5.01361895  5.02722883 11.13688469\n",
      "  2.78435111  6.09927893  7.03493595  5.87911177  5.60146713 41.84384155\n",
      " 11.00888348  9.11189365 17.19045639  8.21193981  7.11424017  6.69640541\n",
      "  2.57679534 18.06686401 19.95274544 45.84997177 12.00607681  6.0037365\n",
      "  5.87911177  7.48836803  7.39972544  7.98878813  9.17067051  8.42713833\n",
      " 11.49376297 10.83439064  6.05860996 52.84178162 11.69809151  8.57625484\n",
      " 12.00145054  3.2277     10.05883121  8.8265543  21.85627174  6.37909317\n",
      " 54.80509567  2.49110198  7.14901304  8.55712986 52.33348465  9.02262306\n",
      " 15.90815449 54.99875641  7.36209774 11.02696037  5.42101669  5.45558834\n",
      " 11.15548897  6.35246325 23.84431458  5.87911177 12.98450661  5.93327188\n",
      "  5.40260124  7.16242409 60.45877075  7.55636692 10.86565495 52.12588882\n",
      "  5.92671585 33.3664093  11.71820641 13.01085758  5.40777779 50.55395126\n",
      "  8.03699684 15.32969093  6.09927893 30.39649773 14.46291733 11.65756893\n",
      "  8.46084023 36.0956459   9.45142555 48.39989853  7.47179031 16.31342697\n",
      "  7.16105747 14.17152596 10.17493534  7.91777229 24.65538406  9.38443184\n",
      " 11.84970284  5.20314217  6.66009903  6.90091181  5.56690788 32.84759521\n",
      " 60.27627945 14.28956699  8.06511974 12.27353764  2.49110198  0.\n",
      "  9.42993832 13.52340889 18.58375549 17.99255753  4.22638035 14.52603436\n",
      "  6.30626869 12.51762962 12.45081997 60.37742615 30.00828171  6.55606127\n",
      " 19.95274544 16.91053772 18.97452164 18.22761154  6.31000805 15.55131435\n",
      "  7.70329857 11.95474815 18.36024284  7.49230433  6.79168654  5.43982267\n",
      " 16.99756432  5.66436958 44.019104    5.92671585 14.43467999 46.58438492\n",
      "  7.79348326  9.03858662 43.3300705   7.41125584  9.39370537  6.99153233\n",
      " 10.2899313  58.45921707 21.37407684  6.29168749 10.24240017 25.73048592\n",
      "  8.73279476  7.22380543  7.59381866 49.81335831 53.30765152  9.31275177\n",
      " 13.10912228 15.4329319  87.8898468  10.0827713  48.18662262 19.95274544\n",
      "  7.40207148  5.98887443 58.45921707 24.48214722 43.36603165 45.84997177\n",
      "  7.55636692 12.18054771  9.88642788  4.89221621  5.91160917 10.91731644\n",
      " 11.46490002 11.21678448  9.71308899  5.11515093 12.63520622 18.77761078\n",
      "  6.59171915  3.17164707  6.74731445  7.55479002 60.24240494  7.51038742\n",
      " 12.31499767 12.63231087 11.31216908  8.45103359  5.86965275 14.4274931\n",
      "  4.63814545  4.63814545 13.04177952  7.24431705  8.34437942 27.06069374\n",
      " 12.91897297  8.19535923 14.52603436  6.95449591 43.65406418  6.58783674\n",
      " 16.91910172  3.19903326 52.1958313   9.23544312 11.48142529 25.18369675\n",
      " 11.6390543   6.71677446 18.97345734 10.24278831  7.80500174 11.02161598\n",
      " 10.01214314  7.3970151   3.62189484 16.56403351 53.18190765  3.28033924\n",
      "  6.31000805  8.70037174  5.92894125  5.60146713  6.22264242  8.45353317\n",
      "  9.64442825 24.88846016  6.82900381  9.19560623 54.47685623  7.95356798\n",
      " 43.5621109   6.30958605 20.38942719 15.83978367 13.23199272  3.23920417\n",
      " 15.4329319   4.57036829 17.15589142  4.26017618  5.93327188 11.45079994\n",
      " 13.01085758  7.37472487 10.35613155 15.83978367  8.48759747 49.55818558\n",
      "  6.43904018  6.47884417 14.45121384 67.34409332 10.06401825 13.82983971\n",
      "  5.98887443  6.37702942  8.42713833  7.59381866 12.46658134 15.56914234\n",
      " 18.44824982  7.24771786 19.42672539 11.36539459 11.80852318  3.50405765\n",
      " 10.40992451  7.54982376 44.0080719   6.77347946  6.9309454  13.02971935\n",
      " 12.41754723 58.78779984  5.46070099 10.35613155  5.28769255 12.18054771\n",
      " 67.05369568 14.17721748 33.3223114   3.77908683  6.42869759 21.63772011\n",
      " 12.45715714  6.04443788  8.22514725 34.31608582  8.82414341  5.55429983\n",
      " 14.03080082  7.52408791 12.84852314  5.11515093  5.58282614  9.34106159\n",
      "  8.01915741  7.11424017 68.61908722 57.4038887  10.92313004 11.37576962\n",
      " 19.49348068 16.55270767 11.60611248  6.57213736  7.59381866 10.3237648\n",
      " 10.02412796  6.12720633  6.29082251 13.6278801  37.87605286  8.46084023\n",
      "  6.54187918 11.50854111  6.85157251 10.09143066  6.65192223 42.96965408\n",
      " 24.0500412  18.20678711  9.99384117  7.12374592 89.5149231   7.0820651\n",
      " 13.29972553  7.2009201   5.60146713 57.47081757 12.03345871 13.34719563\n",
      " 16.37011147 38.57157516 22.42311859 25.63409233 21.09352112  6.66229725\n",
      "  7.14801645 12.60595798 11.41763687 19.39697266  2.6939888   9.09882927\n",
      "  6.97969532  6.12720633  7.66913319 10.43208599  7.00798655 30.99565697\n",
      " 12.72425938  3.20402265 10.51613998 52.53224182  6.60424185  8.83066273\n",
      " 12.11212826  5.65336037  8.51773739  7.77939272  5.28769255  7.59796286\n",
      " 10.34284878 47.20161057 60.37742615 13.55185127  8.90548515  6.86665869\n",
      " 50.59967041  8.47959518  5.40842342 13.60139561  6.18556547 49.84909439\n",
      " 11.00888348  5.52768517 57.907547    7.43340159 20.61024094 39.12088776\n",
      " 13.82508373  8.51893139  8.52789402  4.89036036  8.81983089  7.0885148\n",
      " 12.02740574  3.43092108  1.96346593  6.61316538  7.57767725  5.31655359\n",
      "  5.24591017  6.0037365   5.98887443  5.74423838  5.99766731 13.48087883\n",
      "  4.36482906 20.24452591 56.57465363 11.22280788 22.25920486  5.48900986\n",
      " 24.53862762 12.18054771 47.66934204 57.44963455  6.0037365   6.69640541\n",
      " 12.82995129  6.2467804  47.87835693 19.05969429 22.16295242 19.63981628\n",
      "  7.77939272  4.93746233 35.30600357 20.36977577  7.86215496 11.36362362\n",
      " 12.15968513 53.15977097 10.67873287  7.52073669  5.52286768 15.56914234\n",
      " 10.62339592 16.62057877 59.5953064   6.8077631   6.09927893  7.5719533\n",
      " 12.88821793  5.40249825  9.62166405 28.08661842 11.05264759  6.09821606\n",
      " 16.14542389  7.92831087 44.019104   62.46012115 11.37576962 11.97971916\n",
      " 28.98892403  7.84506798 18.71947861  8.18125439  6.61102772  7.28787136\n",
      " 41.96430969  7.22545338  8.05892944 69.5092392   5.99766731  8.072649\n",
      " 24.48214722  8.0741806  13.34835339 15.20520401  7.6510706   6.29007721\n",
      "  6.50335884  7.20987749 11.80852318 15.66046619 12.77619267  7.43007135\n",
      " 50.0928688  47.78329468 46.30657959 16.16668701 39.509552   12.85449696\n",
      "  7.0820651   9.30610084 45.28052521  7.68220091 11.8751688   7.43409967\n",
      "  6.96937418  9.58457184 13.34835339  5.86965275 11.50622559  9.190629\n",
      " 47.83108139  7.9328804   6.60424185  7.31980705  4.95889425 14.08218002\n",
      "  7.25289249 10.94744015  6.9309454  37.96092606  7.01743603  5.43982267\n",
      " 14.2806778   6.49139643 15.48147774 12.02740574  9.39370537 37.93583298\n",
      " 17.34593773 22.98555756  9.53054333  9.61423111 27.09280014 10.30975819\n",
      "  2.47373438 12.68171406 14.77213383 73.97843933  6.81852913  9.29913139\n",
      " 24.84844971 11.09101582  5.00159502 18.10185814  6.85157251 11.39698124\n",
      " 24.37779617  4.67187882  5.04263496 23.92387199 13.39305782 15.05586624\n",
      "  9.9065876  14.38801861  0.         19.23730469 12.15968513 11.95184231\n",
      "  2.56843996 60.13874435 17.32759857  5.98287821  7.63435125  5.34012079\n",
      "  9.94379711 33.1245842  14.23140049 69.32280731  8.76506329 65.69420624\n",
      " 12.97645187  8.27960587  6.03496361  7.57638407 17.33931541 11.47708035\n",
      "  9.17813683  5.58282614 14.71031475 58.65694809  5.92671585 11.27709866\n",
      "  7.16013527 56.42133331 14.59558487 28.71139145  6.90905666  6.94533825\n",
      "  8.16819191 13.40081406  5.83035612 11.31516075 10.58500099  8.62463283\n",
      "  8.19535923  8.86846829  7.28753996 34.9414444   8.08980084  8.17878056\n",
      "  9.68107986  6.31000805 10.55716133 19.14549828 43.50709152  7.03241253\n",
      "  9.17067051  6.55557632  7.89575672 12.29741669  7.83892584 24.58644295\n",
      " 19.93675804 10.2959938   6.57213736  5.64820671 46.51029968 14.52603436\n",
      " 18.20678711  9.53528309  9.13337803 12.86347103  6.06749773  9.29444885\n",
      "  9.69856167 27.60730743 19.23730469  6.56064844  3.21201372  5.31655359\n",
      " 66.15499115 48.14273834  4.00540304  8.51773739  9.04546452  5.59923792\n",
      " 48.27621078  3.9247818   6.23652506 12.76904297  9.03858662  4.43262529\n",
      "  5.41697502 71.99536133 57.47081757 31.17227745  6.1003623   6.37750959\n",
      "  7.80114842  6.51095056  6.05505371  7.33924007  8.42468166 44.42053604\n",
      "  6.85079193 44.42053604  9.38443184 16.014534   11.31855965  6.25951862\n",
      " 11.7881403   9.973279   28.82854843 13.44190693  6.79264402  9.190629\n",
      "  4.26017618 11.15548897  4.49117565  8.46939945  7.98878813  7.54839182\n",
      "  8.62410545 10.59545422 73.97621918  8.03699684  6.50771713 14.66657066\n",
      "  4.05538177  6.66783047 52.80630112  9.88642788  9.65192986  5.28034925\n",
      "  6.66009903  7.54839182 11.23468304  6.69640541  5.74772072  9.36950684\n",
      "  4.89036036 15.97343063 13.72839165 58.18871689  7.07004786  7.08878088\n",
      " 43.23241806 18.76385498  9.76521873 14.54311562 11.58815479  9.96049595\n",
      "  6.3693676   5.64391041  4.12297821 57.56728363  9.45142555 15.26348782\n",
      " 41.97595978  9.57036877  7.52054834 15.28436947 17.3948288  43.51719666\n",
      " 64.8717041   6.84501362  7.64034987 13.39305782  5.20314217 48.55954361\n",
      "  9.61423111 11.18343353  9.16530609  6.0897994  17.46842003 14.11030769\n",
      " 14.10901833 12.76904297 67.59043121  7.73728561 12.42877769 14.47627068\n",
      " 47.75509262 19.88762856 13.25890827 14.52359867  8.61384487 10.34284878\n",
      "  9.54017544 10.69734764 91.83377838 11.18562984  8.82306385 10.34284878\n",
      "  5.00159502  5.49768114 10.91731644  2.56843996  7.20014954 10.92313004\n",
      "  9.94379711  6.59442377  5.13100576 17.76615524  4.95387983  9.51314354\n",
      " 24.87619019 11.52938271 50.259655   10.48692989 62.79132843 19.01361084\n",
      "  8.35773945 71.50645447 11.31516075 10.34284878  5.64820671  4.78335667\n",
      "  3.19591951  7.48187494  5.38345385  7.41759491  9.61423111]\n"
     ]
    }
   ],
   "source": [
    "print(y_test)"
   ]
  },
  {
   "cell_type": "markdown",
   "metadata": {
    "colab_type": "text",
    "id": "kW3c7UYih0hT"
   },
   "source": [
    "## Feature Scaling"
   ]
  },
  {
   "cell_type": "code",
   "execution_count": 33,
   "metadata": {
    "colab": {},
    "colab_type": "code",
    "id": "9fQlDPKCh8sc"
   },
   "outputs": [
    {
     "ename": "ValueError",
     "evalue": "could not convert string to float: 'Uttarakhand'",
     "output_type": "error",
     "traceback": [
      "\u001b[1;31m---------------------------------------------------------------------------\u001b[0m",
      "\u001b[1;31mValueError\u001b[0m                                Traceback (most recent call last)",
      "\u001b[1;32m<ipython-input-33-7774ae15631b>\u001b[0m in \u001b[0;36m<module>\u001b[1;34m\u001b[0m\n\u001b[0;32m      2\u001b[0m \u001b[0msc_X\u001b[0m \u001b[1;33m=\u001b[0m \u001b[0mStandardScaler\u001b[0m\u001b[1;33m(\u001b[0m\u001b[1;33m)\u001b[0m\u001b[1;33m\u001b[0m\u001b[1;33m\u001b[0m\u001b[0m\n\u001b[0;32m      3\u001b[0m \u001b[0msc_y\u001b[0m \u001b[1;33m=\u001b[0m \u001b[0mStandardScaler\u001b[0m\u001b[1;33m(\u001b[0m\u001b[1;33m)\u001b[0m\u001b[1;33m\u001b[0m\u001b[1;33m\u001b[0m\u001b[0m\n\u001b[1;32m----> 4\u001b[1;33m \u001b[0mX_train\u001b[0m \u001b[1;33m=\u001b[0m \u001b[0msc_X\u001b[0m\u001b[1;33m.\u001b[0m\u001b[0mfit_transform\u001b[0m\u001b[1;33m(\u001b[0m\u001b[0mX_train\u001b[0m\u001b[1;33m)\u001b[0m\u001b[1;33m\u001b[0m\u001b[1;33m\u001b[0m\u001b[0m\n\u001b[0m\u001b[0;32m      5\u001b[0m \u001b[0mX_test\u001b[0m \u001b[1;33m=\u001b[0m \u001b[0msc_X\u001b[0m\u001b[1;33m.\u001b[0m\u001b[0mtransform\u001b[0m\u001b[1;33m(\u001b[0m\u001b[0mX_test\u001b[0m\u001b[1;33m)\u001b[0m\u001b[1;33m\u001b[0m\u001b[1;33m\u001b[0m\u001b[0m\n",
      "\u001b[1;32m~\\anaconda3\\lib\\site-packages\\sklearn\\base.py\u001b[0m in \u001b[0;36mfit_transform\u001b[1;34m(self, X, y, **fit_params)\u001b[0m\n\u001b[0;32m    688\u001b[0m         \u001b[1;32mif\u001b[0m \u001b[0my\u001b[0m \u001b[1;32mis\u001b[0m \u001b[1;32mNone\u001b[0m\u001b[1;33m:\u001b[0m\u001b[1;33m\u001b[0m\u001b[1;33m\u001b[0m\u001b[0m\n\u001b[0;32m    689\u001b[0m             \u001b[1;31m# fit method of arity 1 (unsupervised transformation)\u001b[0m\u001b[1;33m\u001b[0m\u001b[1;33m\u001b[0m\u001b[1;33m\u001b[0m\u001b[0m\n\u001b[1;32m--> 690\u001b[1;33m             \u001b[1;32mreturn\u001b[0m \u001b[0mself\u001b[0m\u001b[1;33m.\u001b[0m\u001b[0mfit\u001b[0m\u001b[1;33m(\u001b[0m\u001b[0mX\u001b[0m\u001b[1;33m,\u001b[0m \u001b[1;33m**\u001b[0m\u001b[0mfit_params\u001b[0m\u001b[1;33m)\u001b[0m\u001b[1;33m.\u001b[0m\u001b[0mtransform\u001b[0m\u001b[1;33m(\u001b[0m\u001b[0mX\u001b[0m\u001b[1;33m)\u001b[0m\u001b[1;33m\u001b[0m\u001b[1;33m\u001b[0m\u001b[0m\n\u001b[0m\u001b[0;32m    691\u001b[0m         \u001b[1;32melse\u001b[0m\u001b[1;33m:\u001b[0m\u001b[1;33m\u001b[0m\u001b[1;33m\u001b[0m\u001b[0m\n\u001b[0;32m    692\u001b[0m             \u001b[1;31m# fit method of arity 2 (supervised transformation)\u001b[0m\u001b[1;33m\u001b[0m\u001b[1;33m\u001b[0m\u001b[1;33m\u001b[0m\u001b[0m\n",
      "\u001b[1;32m~\\anaconda3\\lib\\site-packages\\sklearn\\preprocessing\\_data.py\u001b[0m in \u001b[0;36mfit\u001b[1;34m(self, X, y)\u001b[0m\n\u001b[0;32m    665\u001b[0m         \u001b[1;31m# Reset internal state before fitting\u001b[0m\u001b[1;33m\u001b[0m\u001b[1;33m\u001b[0m\u001b[1;33m\u001b[0m\u001b[0m\n\u001b[0;32m    666\u001b[0m         \u001b[0mself\u001b[0m\u001b[1;33m.\u001b[0m\u001b[0m_reset\u001b[0m\u001b[1;33m(\u001b[0m\u001b[1;33m)\u001b[0m\u001b[1;33m\u001b[0m\u001b[1;33m\u001b[0m\u001b[0m\n\u001b[1;32m--> 667\u001b[1;33m         \u001b[1;32mreturn\u001b[0m \u001b[0mself\u001b[0m\u001b[1;33m.\u001b[0m\u001b[0mpartial_fit\u001b[0m\u001b[1;33m(\u001b[0m\u001b[0mX\u001b[0m\u001b[1;33m,\u001b[0m \u001b[0my\u001b[0m\u001b[1;33m)\u001b[0m\u001b[1;33m\u001b[0m\u001b[1;33m\u001b[0m\u001b[0m\n\u001b[0m\u001b[0;32m    668\u001b[0m \u001b[1;33m\u001b[0m\u001b[0m\n\u001b[0;32m    669\u001b[0m     \u001b[1;32mdef\u001b[0m \u001b[0mpartial_fit\u001b[0m\u001b[1;33m(\u001b[0m\u001b[0mself\u001b[0m\u001b[1;33m,\u001b[0m \u001b[0mX\u001b[0m\u001b[1;33m,\u001b[0m \u001b[0my\u001b[0m\u001b[1;33m=\u001b[0m\u001b[1;32mNone\u001b[0m\u001b[1;33m)\u001b[0m\u001b[1;33m:\u001b[0m\u001b[1;33m\u001b[0m\u001b[1;33m\u001b[0m\u001b[0m\n",
      "\u001b[1;32m~\\anaconda3\\lib\\site-packages\\sklearn\\preprocessing\\_data.py\u001b[0m in \u001b[0;36mpartial_fit\u001b[1;34m(self, X, y)\u001b[0m\n\u001b[0;32m    694\u001b[0m             \u001b[0mTransformer\u001b[0m \u001b[0minstance\u001b[0m\u001b[1;33m.\u001b[0m\u001b[1;33m\u001b[0m\u001b[1;33m\u001b[0m\u001b[0m\n\u001b[0;32m    695\u001b[0m         \"\"\"\n\u001b[1;32m--> 696\u001b[1;33m         X = self._validate_data(X, accept_sparse=('csr', 'csc'),\n\u001b[0m\u001b[0;32m    697\u001b[0m                                 \u001b[0mestimator\u001b[0m\u001b[1;33m=\u001b[0m\u001b[0mself\u001b[0m\u001b[1;33m,\u001b[0m \u001b[0mdtype\u001b[0m\u001b[1;33m=\u001b[0m\u001b[0mFLOAT_DTYPES\u001b[0m\u001b[1;33m,\u001b[0m\u001b[1;33m\u001b[0m\u001b[1;33m\u001b[0m\u001b[0m\n\u001b[0;32m    698\u001b[0m                                 force_all_finite='allow-nan')\n",
      "\u001b[1;32m~\\anaconda3\\lib\\site-packages\\sklearn\\base.py\u001b[0m in \u001b[0;36m_validate_data\u001b[1;34m(self, X, y, reset, validate_separately, **check_params)\u001b[0m\n\u001b[0;32m    418\u001b[0m                     \u001b[1;34mf\"requires y to be passed, but the target y is None.\"\u001b[0m\u001b[1;33m\u001b[0m\u001b[1;33m\u001b[0m\u001b[0m\n\u001b[0;32m    419\u001b[0m                 )\n\u001b[1;32m--> 420\u001b[1;33m             \u001b[0mX\u001b[0m \u001b[1;33m=\u001b[0m \u001b[0mcheck_array\u001b[0m\u001b[1;33m(\u001b[0m\u001b[0mX\u001b[0m\u001b[1;33m,\u001b[0m \u001b[1;33m**\u001b[0m\u001b[0mcheck_params\u001b[0m\u001b[1;33m)\u001b[0m\u001b[1;33m\u001b[0m\u001b[1;33m\u001b[0m\u001b[0m\n\u001b[0m\u001b[0;32m    421\u001b[0m             \u001b[0mout\u001b[0m \u001b[1;33m=\u001b[0m \u001b[0mX\u001b[0m\u001b[1;33m\u001b[0m\u001b[1;33m\u001b[0m\u001b[0m\n\u001b[0;32m    422\u001b[0m         \u001b[1;32melse\u001b[0m\u001b[1;33m:\u001b[0m\u001b[1;33m\u001b[0m\u001b[1;33m\u001b[0m\u001b[0m\n",
      "\u001b[1;32m~\\anaconda3\\lib\\site-packages\\sklearn\\utils\\validation.py\u001b[0m in \u001b[0;36minner_f\u001b[1;34m(*args, **kwargs)\u001b[0m\n\u001b[0;32m     71\u001b[0m                           FutureWarning)\n\u001b[0;32m     72\u001b[0m         \u001b[0mkwargs\u001b[0m\u001b[1;33m.\u001b[0m\u001b[0mupdate\u001b[0m\u001b[1;33m(\u001b[0m\u001b[1;33m{\u001b[0m\u001b[0mk\u001b[0m\u001b[1;33m:\u001b[0m \u001b[0marg\u001b[0m \u001b[1;32mfor\u001b[0m \u001b[0mk\u001b[0m\u001b[1;33m,\u001b[0m \u001b[0marg\u001b[0m \u001b[1;32min\u001b[0m \u001b[0mzip\u001b[0m\u001b[1;33m(\u001b[0m\u001b[0msig\u001b[0m\u001b[1;33m.\u001b[0m\u001b[0mparameters\u001b[0m\u001b[1;33m,\u001b[0m \u001b[0margs\u001b[0m\u001b[1;33m)\u001b[0m\u001b[1;33m}\u001b[0m\u001b[1;33m)\u001b[0m\u001b[1;33m\u001b[0m\u001b[1;33m\u001b[0m\u001b[0m\n\u001b[1;32m---> 73\u001b[1;33m         \u001b[1;32mreturn\u001b[0m \u001b[0mf\u001b[0m\u001b[1;33m(\u001b[0m\u001b[1;33m**\u001b[0m\u001b[0mkwargs\u001b[0m\u001b[1;33m)\u001b[0m\u001b[1;33m\u001b[0m\u001b[1;33m\u001b[0m\u001b[0m\n\u001b[0m\u001b[0;32m     74\u001b[0m     \u001b[1;32mreturn\u001b[0m \u001b[0minner_f\u001b[0m\u001b[1;33m\u001b[0m\u001b[1;33m\u001b[0m\u001b[0m\n\u001b[0;32m     75\u001b[0m \u001b[1;33m\u001b[0m\u001b[0m\n",
      "\u001b[1;32m~\\anaconda3\\lib\\site-packages\\sklearn\\utils\\validation.py\u001b[0m in \u001b[0;36mcheck_array\u001b[1;34m(array, accept_sparse, accept_large_sparse, dtype, order, copy, force_all_finite, ensure_2d, allow_nd, ensure_min_samples, ensure_min_features, estimator)\u001b[0m\n\u001b[0;32m    597\u001b[0m                     \u001b[0marray\u001b[0m \u001b[1;33m=\u001b[0m \u001b[0marray\u001b[0m\u001b[1;33m.\u001b[0m\u001b[0mastype\u001b[0m\u001b[1;33m(\u001b[0m\u001b[0mdtype\u001b[0m\u001b[1;33m,\u001b[0m \u001b[0mcasting\u001b[0m\u001b[1;33m=\u001b[0m\u001b[1;34m\"unsafe\"\u001b[0m\u001b[1;33m,\u001b[0m \u001b[0mcopy\u001b[0m\u001b[1;33m=\u001b[0m\u001b[1;32mFalse\u001b[0m\u001b[1;33m)\u001b[0m\u001b[1;33m\u001b[0m\u001b[1;33m\u001b[0m\u001b[0m\n\u001b[0;32m    598\u001b[0m                 \u001b[1;32melse\u001b[0m\u001b[1;33m:\u001b[0m\u001b[1;33m\u001b[0m\u001b[1;33m\u001b[0m\u001b[0m\n\u001b[1;32m--> 599\u001b[1;33m                     \u001b[0marray\u001b[0m \u001b[1;33m=\u001b[0m \u001b[0mnp\u001b[0m\u001b[1;33m.\u001b[0m\u001b[0masarray\u001b[0m\u001b[1;33m(\u001b[0m\u001b[0marray\u001b[0m\u001b[1;33m,\u001b[0m \u001b[0morder\u001b[0m\u001b[1;33m=\u001b[0m\u001b[0morder\u001b[0m\u001b[1;33m,\u001b[0m \u001b[0mdtype\u001b[0m\u001b[1;33m=\u001b[0m\u001b[0mdtype\u001b[0m\u001b[1;33m)\u001b[0m\u001b[1;33m\u001b[0m\u001b[1;33m\u001b[0m\u001b[0m\n\u001b[0m\u001b[0;32m    600\u001b[0m             \u001b[1;32mexcept\u001b[0m \u001b[0mComplexWarning\u001b[0m\u001b[1;33m:\u001b[0m\u001b[1;33m\u001b[0m\u001b[1;33m\u001b[0m\u001b[0m\n\u001b[0;32m    601\u001b[0m                 raise ValueError(\"Complex data not supported\\n\"\n",
      "\u001b[1;32m~\\anaconda3\\lib\\site-packages\\numpy\\core\\_asarray.py\u001b[0m in \u001b[0;36masarray\u001b[1;34m(a, dtype, order)\u001b[0m\n\u001b[0;32m     83\u001b[0m \u001b[1;33m\u001b[0m\u001b[0m\n\u001b[0;32m     84\u001b[0m     \"\"\"\n\u001b[1;32m---> 85\u001b[1;33m     \u001b[1;32mreturn\u001b[0m \u001b[0marray\u001b[0m\u001b[1;33m(\u001b[0m\u001b[0ma\u001b[0m\u001b[1;33m,\u001b[0m \u001b[0mdtype\u001b[0m\u001b[1;33m,\u001b[0m \u001b[0mcopy\u001b[0m\u001b[1;33m=\u001b[0m\u001b[1;32mFalse\u001b[0m\u001b[1;33m,\u001b[0m \u001b[0morder\u001b[0m\u001b[1;33m=\u001b[0m\u001b[0morder\u001b[0m\u001b[1;33m)\u001b[0m\u001b[1;33m\u001b[0m\u001b[1;33m\u001b[0m\u001b[0m\n\u001b[0m\u001b[0;32m     86\u001b[0m \u001b[1;33m\u001b[0m\u001b[0m\n\u001b[0;32m     87\u001b[0m \u001b[1;33m\u001b[0m\u001b[0m\n",
      "\u001b[1;31mValueError\u001b[0m: could not convert string to float: 'Uttarakhand'"
     ]
    }
   ],
   "source": [
    "from sklearn.preprocessing import StandardScaler\n",
    "sc_X = StandardScaler()\n",
    "sc_y = StandardScaler()\n",
    "X_train = sc_X.fit_transform(X_train)\n",
    "X_test = sc_X.transform(X_test)\n"
   ]
  },
  {
   "cell_type": "code",
   "execution_count": 11,
   "metadata": {
    "colab": {
     "base_uri": "https://localhost:8080/",
     "height": 1000
    },
    "colab_type": "code",
    "executionInfo": {
     "elapsed": 2046,
     "status": "ok",
     "timestamp": 1588269312370,
     "user": {
      "displayName": "Hadelin de Ponteves",
      "photoUrl": "https://lh3.googleusercontent.com/a-/AOh14GhEuXdT7eQweUmRPW8_laJuPggSK6hfvpl5a6WBaA=s64",
      "userId": "15047218817161520419"
     },
     "user_tz": -240
    },
    "id": "syrnD1Op2BSR",
    "outputId": "c71d71b1-d8b6-4391-dee4-6f8e48b848c2"
   },
   "outputs": [
    {
     "name": "stdout",
     "output_type": "stream",
     "text": [
      "[[-0.2306328  -0.22573306 -0.22325083 ... -1.48482014 -0.52498847\n",
      "   1.04767606]\n",
      " [-0.2306328  -0.22573306 -0.22325083 ... -0.8648489  -0.52568132\n",
      "   0.83168825]\n",
      " [-0.2306328  -0.22573306 -0.22325083 ...  0.43651532 -0.22504724\n",
      "   0.29416619]\n",
      " ...\n",
      " [-0.2306328  -0.22573306 -0.22325083 ...  1.35956284  0.25018589\n",
      "  -1.21805439]\n",
      " [-0.2306328  -0.22573306 -0.22325083 ... -0.56610017 -0.26577559\n",
      "  -0.63678409]\n",
      " [-0.2306328  -0.22573306 -0.22325083 ... -1.10832297 -0.4651888\n",
      "   1.2379656 ]]\n"
     ]
    }
   ],
   "source": [
    "print(X_train)"
   ]
  },
  {
   "cell_type": "code",
   "execution_count": 12,
   "metadata": {
    "colab": {
     "base_uri": "https://localhost:8080/",
     "height": 1000
    },
    "colab_type": "code",
    "executionInfo": {
     "elapsed": 2041,
     "status": "ok",
     "timestamp": 1588269312370,
     "user": {
      "displayName": "Hadelin de Ponteves",
      "photoUrl": "https://lh3.googleusercontent.com/a-/AOh14GhEuXdT7eQweUmRPW8_laJuPggSK6hfvpl5a6WBaA=s64",
      "userId": "15047218817161520419"
     },
     "user_tz": -240
    },
    "id": "JUd6iBRp2C3L",
    "outputId": "5762f294-8c56-4d79-c441-3468e2cb5e6a"
   },
   "outputs": [
    {
     "name": "stdout",
     "output_type": "stream",
     "text": [
      "[[-0.2306328  -0.22573306 -0.22325083 ...  1.68732585  0.46829185\n",
      "  -1.35419401]\n",
      " [-0.2306328  -0.22573306 -0.22325083 ...  0.82319208 -0.04925534\n",
      "  -1.20704085]\n",
      " [-0.2306328  -0.22573306 -0.22325083 ... -0.84660433 -0.52568132\n",
      "   1.5897871 ]\n",
      " ...\n",
      " [-0.2306328  -0.22573306 -0.22325083 ... -0.49474471 -0.49633863\n",
      "   1.29395111]\n",
      " [-0.2306328  -0.22573306  4.47926666 ... -1.44400344 -0.59710236\n",
      "   1.40775772]\n",
      " [-0.2306328  -0.22573306 -0.22325083 ... -0.9268116  -0.47862444\n",
      "   0.32017039]]\n"
     ]
    }
   ],
   "source": [
    "print(X_test)"
   ]
  },
  {
   "cell_type": "markdown",
   "metadata": {
    "colab_type": "text",
    "id": "bb6jCOCQiAmP"
   },
   "source": [
    "## Training the Decision Tree Classification model on the Training set"
   ]
  },
  {
   "cell_type": "code",
   "execution_count": 13,
   "metadata": {
    "colab": {
     "base_uri": "https://localhost:8080/",
     "height": 120
    },
    "colab_type": "code",
    "executionInfo": {
     "elapsed": 2037,
     "status": "ok",
     "timestamp": 1588269312370,
     "user": {
      "displayName": "Hadelin de Ponteves",
      "photoUrl": "https://lh3.googleusercontent.com/a-/AOh14GhEuXdT7eQweUmRPW8_laJuPggSK6hfvpl5a6WBaA=s64",
      "userId": "15047218817161520419"
     },
     "user_tz": -240
    },
    "id": "e0pFVAmciHQs",
    "outputId": "1a9b0904-ea86-40d9-bca2-a28fdf00d56d"
   },
   "outputs": [
    {
     "data": {
      "text/plain": [
       "DecisionTreeClassifier(criterion='entropy', random_state=0)"
      ]
     },
     "execution_count": 13,
     "metadata": {},
     "output_type": "execute_result"
    }
   ],
   "source": [
    "from sklearn.tree import DecisionTreeClassifier\n",
    "classifier = DecisionTreeClassifier(criterion = 'entropy', random_state = 0)\n",
    "classifier.fit(X_train, y_train)"
   ]
  },
  {
   "cell_type": "markdown",
   "metadata": {
    "colab_type": "text",
    "id": "vKYVQH-l5NpE"
   },
   "source": [
    "## Predicting the Test set results"
   ]
  },
  {
   "cell_type": "code",
   "execution_count": 14,
   "metadata": {
    "colab": {
     "base_uri": "https://localhost:8080/",
     "height": 1000
    },
    "colab_type": "code",
    "executionInfo": {
     "elapsed": 2029,
     "status": "ok",
     "timestamp": 1588269312371,
     "user": {
      "displayName": "Hadelin de Ponteves",
      "photoUrl": "https://lh3.googleusercontent.com/a-/AOh14GhEuXdT7eQweUmRPW8_laJuPggSK6hfvpl5a6WBaA=s64",
      "userId": "15047218817161520419"
     },
     "user_tz": -240
    },
    "id": "p6VMTb2O4hwM",
    "outputId": "05404102-6c3b-4c34-a180-e2a1d5a85e57"
   },
   "outputs": [
    {
     "name": "stdout",
     "output_type": "stream",
     "text": [
      "[[0 0]\n",
      " [0 0]\n",
      " [0 0]\n",
      " ...\n",
      " [0 0]\n",
      " [0 0]\n",
      " [0 0]]\n"
     ]
    }
   ],
   "source": [
    "y_pred = classifier.predict(X_test)\n",
    "print(np.concatenate((y_pred.reshape(len(y_pred),1), y_test.reshape(len(y_test),1)),1))"
   ]
  },
  {
   "cell_type": "markdown",
   "metadata": {
    "colab_type": "text",
    "id": "h4Hwj34ziWQW"
   },
   "source": [
    "## Making the Confusion Matrix"
   ]
  },
  {
   "cell_type": "code",
   "execution_count": 15,
   "metadata": {
    "colab": {
     "base_uri": "https://localhost:8080/",
     "height": 68
    },
    "colab_type": "code",
    "executionInfo": {
     "elapsed": 2026,
     "status": "ok",
     "timestamp": 1588269312371,
     "user": {
      "displayName": "Hadelin de Ponteves",
      "photoUrl": "https://lh3.googleusercontent.com/a-/AOh14GhEuXdT7eQweUmRPW8_laJuPggSK6hfvpl5a6WBaA=s64",
      "userId": "15047218817161520419"
     },
     "user_tz": -240
    },
    "id": "D6bpZwUiiXic",
    "outputId": "031d8132-ae7a-4a4c-b2dd-26b88da40ed6"
   },
   "outputs": [
    {
     "name": "stdout",
     "output_type": "stream",
     "text": [
      "[[547  23]\n",
      " [ 14  76]]\n"
     ]
    },
    {
     "data": {
      "text/plain": [
       "0.943939393939394"
      ]
     },
     "execution_count": 15,
     "metadata": {},
     "output_type": "execute_result"
    }
   ],
   "source": [
    "from sklearn.metrics import confusion_matrix, accuracy_score\n",
    "cm = confusion_matrix(y_test, y_pred)\n",
    "print(cm)\n",
    "accuracy_score(y_test, y_pred)"
   ]
  },
  {
   "cell_type": "code",
   "execution_count": 16,
   "metadata": {},
   "outputs": [],
   "source": [
    "filename= 'flood_pred_model'\n",
    "pickle.dump(classifier,open(filename,'wb'))"
   ]
  },
  {
   "cell_type": "code",
   "execution_count": 17,
   "metadata": {},
   "outputs": [
    {
     "data": {
      "text/plain": [
       "array([0, 0, 0, 1, 0, 0, 0, 0, 0, 1, 0, 0, 0, 0, 0, 0, 0, 0, 0, 0, 0, 0,\n",
       "       0, 0, 0, 0, 0, 0, 0, 0, 0, 0, 1, 0, 0, 1, 0, 0, 0, 0, 1, 0, 0, 0,\n",
       "       0, 0, 0, 0, 0, 0, 0, 0, 1, 0, 0, 0, 0, 1, 0, 0, 1, 0, 0, 0, 0, 1,\n",
       "       0, 0, 0, 0, 0, 0, 0, 0, 1, 0, 0, 0, 0, 0, 0, 0, 0, 1, 0, 0, 0, 0,\n",
       "       0, 0, 0, 0, 1, 0, 0, 1, 0, 0, 0, 0, 0, 0, 0, 0, 0, 0, 0, 0, 0, 0,\n",
       "       0, 0, 0, 1, 1, 0, 0, 0, 0, 0, 0, 0, 0, 0, 0, 0, 0, 0, 0, 0, 0, 0,\n",
       "       0, 0, 0, 0, 0, 0, 0, 0, 0, 0, 0, 0, 0, 1, 0, 0, 1, 0, 0, 0, 0, 0,\n",
       "       0, 0, 0, 0, 0, 0, 0, 0, 0, 1, 0, 1, 0, 0, 0, 0, 0, 1, 0, 0, 0, 0,\n",
       "       0, 0, 0, 0, 0, 0, 0, 0, 0, 1, 1, 0, 0, 0, 0, 0, 0, 0, 0, 0, 0, 0,\n",
       "       0, 0, 0, 0, 0, 0, 0, 0, 0, 1, 0, 0, 0, 0, 0, 0, 1, 0, 0, 1, 0, 0,\n",
       "       0, 0, 0, 0, 0, 0, 0, 0, 0, 0, 0, 0, 0, 1, 0, 0, 1, 0, 0, 0, 0, 0,\n",
       "       0, 0, 0, 1, 1, 0, 0, 0, 0, 0, 0, 0, 0, 0, 0, 0, 0, 0, 0, 1, 0, 0,\n",
       "       1, 1, 0, 0, 0, 0, 1, 0, 0, 0, 0, 0, 1, 0, 0, 0, 0, 0, 0, 0, 0, 0,\n",
       "       0, 0, 0, 0, 0, 0, 1, 0, 0, 0, 0, 0, 0, 0, 0, 0, 1, 0, 0, 1, 1, 0,\n",
       "       1, 0, 0, 0, 0, 0, 0, 0, 1, 0, 0, 0, 0, 0, 0, 0, 0, 0, 0, 0, 0, 0,\n",
       "       0, 0, 0, 0, 0, 0, 0, 0, 0, 0, 1, 0, 0, 1, 0, 0, 0, 0, 0, 1, 0, 0,\n",
       "       0, 1, 0, 1, 0, 0, 0, 1, 0, 0, 0, 1, 0, 0, 0, 0, 0, 0, 0, 0, 1, 0,\n",
       "       0, 0, 0, 0, 1, 0, 0, 1, 0, 0, 0, 0, 0, 0, 0, 0, 0, 0, 0, 1, 0, 0,\n",
       "       0, 0, 0, 0, 1, 1, 0, 1, 0, 0, 0, 0, 0, 0, 0, 0, 1, 0, 0, 0, 0, 0,\n",
       "       0, 0, 0, 1, 0, 0, 0, 1, 0, 0, 0, 0, 1, 0, 0, 1, 0, 0, 0, 0, 0, 1,\n",
       "       0, 0, 0, 1, 0, 0, 0, 0, 0, 1, 0, 0, 0, 0, 0, 0, 0, 0, 1, 0, 0, 0,\n",
       "       0, 0, 1, 0, 1, 0, 0, 0, 0, 0, 0, 0, 0, 0, 0, 0, 0, 0, 0, 0, 0, 0,\n",
       "       0, 0, 0, 0, 0, 0, 0, 0, 0, 0, 0, 0, 1, 0, 0, 0, 0, 0, 0, 0, 1, 1,\n",
       "       0, 0, 0, 0, 0, 0, 1, 1, 1, 1, 1, 0, 0, 0, 1, 0, 1, 0, 0, 1, 0, 0,\n",
       "       0, 1, 0, 0, 0, 0, 0, 0, 1, 0, 0, 0, 0, 0, 0, 1, 0, 0, 0, 0, 0, 0,\n",
       "       0, 0, 0, 0, 0, 0, 1, 0, 1, 0, 0, 0, 0, 0, 0, 0, 0, 1, 0, 0, 0, 0,\n",
       "       0, 0, 0, 0, 0, 0, 0, 0, 0, 0, 0, 0, 0, 0, 0, 0, 0, 0, 0, 0, 1, 1,\n",
       "       1, 0, 0, 0, 0, 1, 0, 1, 0, 0, 0, 0, 0, 0, 1, 0, 1, 0, 0, 0, 1, 1,\n",
       "       0, 0, 0, 0, 0, 0, 0, 0, 1, 0, 0, 0, 0, 0, 0, 1, 0, 0, 0, 0, 0, 0,\n",
       "       0, 1, 1, 0, 1, 0, 0, 0, 1, 0, 0, 0, 1, 1, 0, 0, 0, 0, 0, 0, 0, 0])"
      ]
     },
     "execution_count": 17,
     "metadata": {},
     "output_type": "execute_result"
    }
   ],
   "source": [
    "loaded_model = pickle.load(open(filename,'rb'))\n",
    "loaded_model.predict(X_test)"
   ]
  },
  {
   "cell_type": "code",
   "execution_count": null,
   "metadata": {},
   "outputs": [],
   "source": []
  }
 ],
 "metadata": {
  "colab": {
   "authorship_tag": "ABX9TyP02NrvZmmq4qjp5mwU3Mr2",
   "collapsed_sections": [],
   "machine_shape": "hm",
   "name": "decision_tree_classification.ipynb",
   "provenance": [],
   "toc_visible": true
  },
  "kernelspec": {
   "display_name": "Python 3",
   "language": "python",
   "name": "python3"
  },
  "language_info": {
   "codemirror_mode": {
    "name": "ipython",
    "version": 3
   },
   "file_extension": ".py",
   "mimetype": "text/x-python",
   "name": "python",
   "nbconvert_exporter": "python",
   "pygments_lexer": "ipython3",
   "version": "3.8.3"
  }
 },
 "nbformat": 4,
 "nbformat_minor": 1
}
